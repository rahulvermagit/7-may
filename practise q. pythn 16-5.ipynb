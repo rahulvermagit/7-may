{
 "cells": [
  {
   "cell_type": "code",
   "execution_count": 1,
   "id": "2808ffe1-1071-4950-a3b5-49d7dd26a28f",
   "metadata": {},
   "outputs": [
    {
     "name": "stdout",
     "output_type": "stream",
     "text": [
      "Income tax payable for taxable income $ 45000 is $ 6000.0\n"
     ]
    }
   ],
   "source": [
    "def calculate_income_tax(income):\n",
    "    tax = 0\n",
    "    \n",
    "    # First 10k\n",
    "    if income <= 10000:\n",
    "        return tax\n",
    "    \n",
    "    # Second 10k\n",
    "    if income <= 20000:\n",
    "        tax += (income - 10000) * 0.10\n",
    "        return tax\n",
    "    \n",
    "    tax += 10000 * 0.10\n",
    "    \n",
    "    # Remaining\n",
    "    tax += (income - 20000) * 0.20\n",
    "    \n",
    "    return tax\n",
    "\n",
    "# Example usage\n",
    "taxable_income = 45000\n",
    "income_tax = calculate_income_tax(taxable_income)\n",
    "print(\"Income tax payable for taxable income $\", taxable_income, \"is $\", income_tax)\n"
   ]
  },
  {
   "cell_type": "code",
   "execution_count": 4,
   "id": "3298e948-affb-4d2d-b2ff-d63749cd93e0",
   "metadata": {},
   "outputs": [
    {
     "name": "stdin",
     "output_type": "stream",
     "text": [
      "salllary 45000\n"
     ]
    },
    {
     "name": "stdout",
     "output_type": "stream",
     "text": [
      "6000.0\n"
     ]
    }
   ],
   "source": [
    "income=float(input(\"salllary\"))\n",
    "if income<10000:\n",
    "    tax=0\n",
    "elif income<20000:\n",
    "    tax=(income-10000)*.10\n",
    "else:\n",
    "    tax=10000*.10+(income-20000)*.20\n",
    "print(tax)\n"
   ]
  },
  {
   "cell_type": "code",
   "execution_count": 11,
   "id": "98eb7d0b-35f8-4df2-9b3b-096b85a9835c",
   "metadata": {},
   "outputs": [
    {
     "name": "stdin",
     "output_type": "stream",
     "text": [
      "1st  cone 60\n",
      "2nd cone 60\n",
      "3rd cone 60\n"
     ]
    },
    {
     "name": "stdout",
     "output_type": "stream",
     "text": [
      "triangle bnega\n"
     ]
    }
   ],
   "source": [
    "x=int(input(\"1st  cone\"))\n",
    "y=int(input(\"2nd cone\"))\n",
    "z=intinput(\"3rd cone\"))\n",
    "a=x+y+z\n",
    "if a==180:\n",
    "    print(\"triangle bnega\")\n",
    "else:\n",
    "    print(\"not \")"
   ]
  },
  {
   "cell_type": "markdown",
   "id": "4057858e-3f67-4d7a-8838-67e8d6b0b243",
   "metadata": {},
   "source": []
  },
  {
   "cell_type": "code",
   "execution_count": 21,
   "id": "5e20c12f-3ef7-414b-b4b9-515a8839b09d",
   "metadata": {},
   "outputs": [
    {
     "name": "stdin",
     "output_type": "stream",
     "text": [
      "temp: 45\n",
      "review: 55\n"
     ]
    },
    {
     "name": "stdout",
     "output_type": "stream",
     "text": [
      "hot\n"
     ]
    }
   ],
   "source": [
    "temp=int(input(\"temp:\"))\n",
    "human=int(input(\"review:\"))     \n",
    "if(temp>=30 and human>=90):\n",
    "    print(\"hot and humid\")\n",
    "elif(temp>=30 and human<90):\n",
    "    print(\"hot\")\n",
    "elif(temp<30 and human>=90):\n",
    "    print(\"cool and humid\")\n",
    "elif(temp<30 and human <90):\n",
    "    print(\"cool\")\n",
    "else:\n",
    "    print(\"not data\")"
   ]
  },
  {
   "cell_type": "code",
   "execution_count": 31,
   "id": "451d6155-2d58-4c72-94fe-35c2105904dc",
   "metadata": {},
   "outputs": [
    {
     "name": "stdout",
     "output_type": "stream",
     "text": [
      "-10\n",
      "-9\n",
      "-8\n",
      "-7\n",
      "-6\n",
      "-5\n",
      "-4\n",
      "-3\n",
      "-2\n",
      "-1\n"
     ]
    }
   ],
   "source": [
    "for i in range(-10,0):\n",
    "    print(i)"
   ]
  },
  {
   "cell_type": "code",
   "execution_count": null,
   "id": "93ff069a-bed5-469f-bcd3-2daceca2783e",
   "metadata": {},
   "outputs": [],
   "source": []
  }
 ],
 "metadata": {
  "kernelspec": {
   "display_name": "Python 3 (ipykernel)",
   "language": "python",
   "name": "python3"
  },
  "language_info": {
   "codemirror_mode": {
    "name": "ipython",
    "version": 3
   },
   "file_extension": ".py",
   "mimetype": "text/x-python",
   "name": "python",
   "nbconvert_exporter": "python",
   "pygments_lexer": "ipython3",
   "version": "3.10.11"
  }
 },
 "nbformat": 4,
 "nbformat_minor": 5
}
