{
 "cells": [
  {
   "cell_type": "code",
   "execution_count": 5,
   "id": "a5520e84-3639-44b9-9efa-3cd3a35fd6cf",
   "metadata": {},
   "outputs": [],
   "source": [
    "class House:\n",
    "    color=\"white\"\n",
    "    room=4"
   ]
  },
  {
   "cell_type": "code",
   "execution_count": 6,
   "id": "bca5914a-4520-4c34-a30a-ce8fffa2b246",
   "metadata": {},
   "outputs": [
    {
     "name": "stdout",
     "output_type": "stream",
     "text": [
      "white\n",
      "4\n"
     ]
    }
   ],
   "source": [
    "# object=class()\n",
    "h1=House()\n",
    "print(h1.color)\n",
    "print(h1.room)"
   ]
  },
  {
   "cell_type": "code",
   "execution_count": 17,
   "id": "7bb4ae81-df6f-4d57-b496-95976c72868e",
   "metadata": {},
   "outputs": [],
   "source": [
    "class House:\n",
    "    color=\"white\"\n",
    "    room=4\n",
    "    def house_info(self):\n",
    "        print(\"hello: \" ,self.color,self.room)"
   ]
  },
  {
   "cell_type": "code",
   "execution_count": 18,
   "id": "a2c5469d-a998-4ed4-8353-8de1b84a6063",
   "metadata": {},
   "outputs": [
    {
     "name": "stdout",
     "output_type": "stream",
     "text": [
      "hello:  white 4\n"
     ]
    }
   ],
   "source": [
    "#object\n",
    "h1=House()\n",
    "h1.house_info()\n"
   ]
  },
  {
   "cell_type": "code",
   "execution_count": 19,
   "id": "ce3d5871-b236-4868-a930-d81ef86a4a3f",
   "metadata": {},
   "outputs": [
    {
     "name": "stdout",
     "output_type": "stream",
     "text": [
      "white 4\n"
     ]
    }
   ],
   "source": [
    "h2=House()\n",
    "print(h2.color,h2.room)"
   ]
  },
  {
   "cell_type": "code",
   "execution_count": null,
   "id": "37e4ac46-6be4-41cb-b4e1-4e5f790e5a88",
   "metadata": {},
   "outputs": [],
   "source": [
    "class House:\n",
    "    color=\"white\"\n",
    "    room=4\n",
    "    def house_info(self):\n",
    "        print(\"hello: \" ,self.color,self.room)"
   ]
  },
  {
   "cell_type": "code",
   "execution_count": 12,
   "id": "5025d634-436b-4626-a066-441abfa4e2e6",
   "metadata": {},
   "outputs": [
    {
     "data": {
      "text/plain": [
       "'white'"
      ]
     },
     "execution_count": 12,
     "metadata": {},
     "output_type": "execute_result"
    }
   ],
   "source": [
    "House.color"
   ]
  },
  {
   "cell_type": "code",
   "execution_count": 13,
   "id": "a509c7b6-abb4-442f-902e-2a80018e9cd5",
   "metadata": {},
   "outputs": [
    {
     "name": "stdout",
     "output_type": "stream",
     "text": [
      "white\n"
     ]
    }
   ],
   "source": [
    "e=House.color\n",
    "print(e)"
   ]
  },
  {
   "cell_type": "code",
   "execution_count": 21,
   "id": "a839d27b-901e-423c-ae2d-675292a1d659",
   "metadata": {},
   "outputs": [],
   "source": [
    "class House:\n",
    "    # constructor : function which help in intitalizing the memory for the object yh ek miistri ki tarh work krti h \n",
    "    def __init__(self,x):\n",
    "        self.color=x"
   ]
  },
  {
   "cell_type": "code",
   "execution_count": 22,
   "id": "dc23fccc-6a92-4438-8796-3a35174e6f87",
   "metadata": {},
   "outputs": [
    {
     "name": "stdout",
     "output_type": "stream",
     "text": [
      "yellow\n"
     ]
    }
   ],
   "source": [
    "h1=House(\"yellow\")\n",
    "print(h1.color)"
   ]
  },
  {
   "cell_type": "code",
   "execution_count": 23,
   "id": "61d0ac1f-c4e5-4990-abfb-b67f551daa0a",
   "metadata": {},
   "outputs": [
    {
     "name": "stdout",
     "output_type": "stream",
     "text": [
      "yellow 5\n"
     ]
    }
   ],
   "source": [
    "class House:\n",
    "    def __init__(self ,x,y):\n",
    "        self.color=x\n",
    "        self.room=y\n",
    "\n",
    "#object 1\n",
    "h1=House(\"yellow\",5)\n",
    "print(h1.color,h1.room)"
   ]
  },
  {
   "cell_type": "code",
   "execution_count": 24,
   "id": "5a18d293-da8d-4565-8b3e-dcbd7f156ed2",
   "metadata": {},
   "outputs": [
    {
     "name": "stdout",
     "output_type": "stream",
     "text": [
      "blue 10\n"
     ]
    }
   ],
   "source": [
    "h2=House(\"blue\", 10)\n",
    "print(h2.color ,h2.room)"
   ]
  },
  {
   "cell_type": "code",
   "execution_count": 27,
   "id": "dfb55e74-50db-4804-8ff0-3b0682a851b0",
   "metadata": {},
   "outputs": [
    {
     "name": "stdout",
     "output_type": "stream",
     "text": [
      "house has :  black 50\n"
     ]
    }
   ],
   "source": [
    "class House :\n",
    "    def __init__(self,x,y):\n",
    "        self.color=x\n",
    "        self.room=y\n",
    "\n",
    "    def house_info(self):\n",
    "        print(\"house has : \" ,self.color ,self.room)\n",
    "\n",
    "#object\n",
    "h5=House(\"black\",50)\n",
    "h5.house_info()\n"
   ]
  },
  {
   "cell_type": "code",
   "execution_count": 6,
   "id": "58639e40-b89b-4325-80ad-3b10b938f704",
   "metadata": {},
   "outputs": [
    {
     "name": "stdout",
     "output_type": "stream",
     "text": [
      "1\n",
      "1\n"
     ]
    }
   ],
   "source": [
    "class test:\n",
    "    count=0\n",
    "    def __init__(self):\n",
    "        self.count+=1\n",
    "\n",
    "t1=test()\n",
    "print(t1.count)\n",
    "\n",
    "t2=test()\n",
    "print(t2.count)\n",
    "#self likhne bar ek object par hi work hota h"
   ]
  },
  {
   "cell_type": "code",
   "execution_count": 1,
   "id": "c7c9895e-2d9c-4963-b7e1-6e9f9ce8a5e1",
   "metadata": {},
   "outputs": [
    {
     "name": "stdout",
     "output_type": "stream",
     "text": [
      "1\n",
      "2\n"
     ]
    }
   ],
   "source": [
    "class test:\n",
    "    count=0\n",
    "    def __init__(self):\n",
    "        test.count+=1\n",
    "\n",
    "t1=test()\n",
    "print(t1.count)\n",
    "\n",
    "t2=test()\n",
    "print(t2.count)\n",
    "# class likhne par pura work hota h"
   ]
  },
  {
   "cell_type": "code",
   "execution_count": 17,
   "id": "5fa71ee4-d2b3-495d-b6db-63e36c86a041",
   "metadata": {},
   "outputs": [
    {
     "data": {
      "text/plain": [
       "200"
      ]
     },
     "execution_count": 17,
     "metadata": {},
     "output_type": "execute_result"
    }
   ],
   "source": [
    "# base class / super class /parent class\n",
    "class Father:\n",
    "    amount=500\n",
    "\n",
    "# derived class / sub class / child class \n",
    "class Son:\n",
    "    salary=200\n",
    "s1=Son()\n",
    "s1.salary"
   ]
  },
  {
   "cell_type": "code",
   "execution_count": 20,
   "id": "f88da676-a21b-4850-a1fb-38d3a59202ed",
   "metadata": {},
   "outputs": [
    {
     "name": "stdout",
     "output_type": "stream",
     "text": [
      "rahul\n"
     ]
    }
   ],
   "source": [
    "class Driver:\n",
    "    def __init__(self,id,name,gmail):\n",
    "        self.id=id\n",
    "        self.name=name\n",
    "        self.gmail=gmail\n",
    "\n",
    "d1=Driver(10,\"rahul\",\"rahul@gmail.com\")\n",
    "print(d1.name)"
   ]
  },
  {
   "cell_type": "code",
   "execution_count": 24,
   "id": "6fa78fed-fbfa-4af2-8410-14d3bba33444",
   "metadata": {},
   "outputs": [
    {
     "name": "stdout",
     "output_type": "stream",
     "text": [
      "mohit 20 mohit@gmail.com\n"
     ]
    }
   ],
   "source": [
    "class Customer(Driver):\n",
    "    def __init__(self,cid,cname,cgmail):\n",
    "        super().__init__(cid,cname,cgmail)\n",
    "\n",
    "c1=Customer(20,\"mohit\",\"mohit@gmail.com\")\n",
    "print(c1.name,c1.id,c1.gmail)"
   ]
  },
  {
   "cell_type": "code",
   "execution_count": 28,
   "id": "cc6883e3-90ac-4b6d-b633-0f1ee073d357",
   "metadata": {},
   "outputs": [
    {
     "name": "stdout",
     "output_type": "stream",
     "text": [
      "mohit 20 mohit@gmail.com 850\n"
     ]
    }
   ],
   "source": [
    "class Customer(Driver):\n",
    "    def __init__(self,id,name,gmail,wallet):\n",
    "        super().__init__(id,name,gmail)\n",
    "        self.wallet=wallet\n",
    "\n",
    "c1=Customer(20,\"mohit\",\"mohit@gmail.com\",850)\n",
    "print(c1.name,c1.id,c1.gmail,c1.wallet)"
   ]
  },
  {
   "cell_type": "code",
   "execution_count": 4,
   "id": "33dd016f-ca21-4696-825d-339ff442b661",
   "metadata": {},
   "outputs": [
    {
     "name": "stdout",
     "output_type": "stream",
     "text": [
      "rahul\n",
      "printing: 20 mohit@gmail.com mohit\n"
     ]
    }
   ],
   "source": [
    "class Driver:\n",
    "    def __init__(self,id,name,gmail):\n",
    "        self.id=id\n",
    "        self.name=name\n",
    "        self.gmail=gmail\n",
    "\n",
    "    def cinfo(self):\n",
    "        print(\"printing:\",self.id ,self.gmail ,self.name)\n",
    "\n",
    "d1=Driver(10,\"rahul\",\"rahul@gmail.com\")\n",
    "print(d1.name)\n",
    "\n",
    "class Customer(Driver):\n",
    "    def __init__(self,id,name,gmail,wallet):\n",
    "        super().__init__(id,name,gmail)\n",
    "        self.wallet=wallet\n",
    "\n",
    "c1=Customer(20,\"mohit\",\"mohit@gmail.com\",850)\n",
    "c1.cinfo()"
   ]
  },
  {
   "cell_type": "code",
   "execution_count": null,
   "id": "fa0ae30e-b9ba-4f25-92bf-8330128a22c9",
   "metadata": {},
   "outputs": [],
   "source": []
  },
  {
   "cell_type": "code",
   "execution_count": null,
   "id": "73257765-9676-4389-b310-884edbf34066",
   "metadata": {},
   "outputs": [],
   "source": []
  },
  {
   "cell_type": "code",
   "execution_count": null,
   "id": "f69ebe1b-d0ed-454d-a48f-8b03ed130dd9",
   "metadata": {},
   "outputs": [],
   "source": []
  }
 ],
 "metadata": {
  "kernelspec": {
   "display_name": "Python 3 (ipykernel)",
   "language": "python",
   "name": "python3"
  },
  "language_info": {
   "codemirror_mode": {
    "name": "ipython",
    "version": 3
   },
   "file_extension": ".py",
   "mimetype": "text/x-python",
   "name": "python",
   "nbconvert_exporter": "python",
   "pygments_lexer": "ipython3",
   "version": "3.10.11"
  }
 },
 "nbformat": 4,
 "nbformat_minor": 5
}
