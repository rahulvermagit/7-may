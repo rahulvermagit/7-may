{
 "cells": [
  {
   "cell_type": "code",
   "execution_count": 5,
   "id": "aa19df02-3002-4001-bfec-5ef472010a18",
   "metadata": {},
   "outputs": [
    {
     "name": "stdout",
     "output_type": "stream",
     "text": [
      "hello \n",
      "world     hey rahul\n"
     ]
    }
   ],
   "source": [
    "print(\"hello \\nworld\",end=\"     \")\n",
    "print(\"hey rahul\")\n"
   ]
  },
  {
   "cell_type": "code",
   "execution_count": 10,
   "id": "65de0aa5-68e4-446e-9440-6b67832b10a3",
   "metadata": {},
   "outputs": [
    {
     "name": "stdout",
     "output_type": "stream",
     "text": [
      "hello   @   hey rahul\n"
     ]
    }
   ],
   "source": [
    "print(\"hello\",\"hey rahul\",sep=\"   @   \")"
   ]
  },
  {
   "cell_type": "code",
   "execution_count": 13,
   "id": "3f451285-d317-4a12-9818-40167d8aa1f1",
   "metadata": {},
   "outputs": [
    {
     "name": "stdout",
     "output_type": "stream",
     "text": [
      "<class 'int'>\n"
     ]
    }
   ],
   "source": [
    "x=5\n",
    "print(type(x))"
   ]
  },
  {
   "cell_type": "code",
   "execution_count": 27,
   "id": "e1578418-0875-4c5d-94d4-d48901a05ebe",
   "metadata": {},
   "outputs": [
    {
     "name": "stdout",
     "output_type": "stream",
     "text": [
      "jaipur\n",
      "alwar\n",
      "agra\n",
      "bundi\n"
     ]
    }
   ],
   "source": [
    " adress=\"\"\"jaipur\n",
    "alwar\n",
    "agra\n",
    "bundi\"\"\"\n",
    "print(adress)"
   ]
  },
  {
   "cell_type": "code",
   "execution_count": 23,
   "id": "55b500fc-048b-4240-9db4-4478a58a0384",
   "metadata": {},
   "outputs": [],
   "source": [
    "#five state name\n",
    "stat='''goa\n",
    "rajsthan\n",
    "punjab\n",
    "delhi\n",
    "chainae'''"
   ]
  },
  {
   "cell_type": "code",
   "execution_count": 29,
   "id": "7c9cd270-583d-4e9c-9b51-615f87dffebe",
   "metadata": {},
   "outputs": [
    {
     "name": "stdout",
     "output_type": "stream",
     "text": [
      "goa\n",
      "rajsthan\n",
      "punjab\n",
      "delhi\n",
      "chainae\n"
     ]
    }
   ],
   "source": [
    "#five state name\n",
    "stat='''goa\n",
    "rajsthan\n",
    "punjab\n",
    "delhi\n",
    "chainae'''\n",
    "print(stat)"
   ]
  },
  {
   "cell_type": "code",
   "execution_count": 28,
   "id": "97569605-dab5-4eaa-ade9-c0bda23d5241",
   "metadata": {},
   "outputs": [
    {
     "name": "stdout",
     "output_type": "stream",
     "text": [
      "jaipur\n",
      "alwar\n",
      "agra\n",
      "bundi\n"
     ]
    }
   ],
   "source": [
    " adress='''jaipur\n",
    "alwar\n",
    "agra\n",
    "bundi'''\n",
    "print(adress)"
   ]
  },
  {
   "cell_type": "code",
   "execution_count": 31,
   "id": "c7d54518-7c02-4798-b6d3-71fc50dbc1d5",
   "metadata": {},
   "outputs": [
    {
     "name": "stdout",
     "output_type": "stream",
     "text": [
      "rahul\n"
     ]
    }
   ],
   "source": [
    "'''yhff\n",
    "hftf\n",
    "hfyf'''\n",
    "print(\"rahul\")"
   ]
  },
  {
   "cell_type": "code",
   "execution_count": 32,
   "id": "147f3177-9bb9-49e2-acd6-33b678fbde86",
   "metadata": {},
   "outputs": [
    {
     "name": "stdout",
     "output_type": "stream",
     "text": [
      "company name is Regex software\n"
     ]
    }
   ],
   "source": [
    "company=\"Regex software\"\n",
    "year=2024\n",
    "print(\"company name is\",company)"
   ]
  },
  {
   "cell_type": "code",
   "execution_count": 34,
   "id": "a8c03c43-6ea3-4fa4-900e-8c5ed1453f67",
   "metadata": {},
   "outputs": [
    {
     "name": "stdin",
     "output_type": "stream",
     "text": [
      "your name is: rahul\n"
     ]
    },
    {
     "name": "stdout",
     "output_type": "stream",
     "text": [
      "hello mr.  rahul\n"
     ]
    }
   ],
   "source": [
    "x=input(\"your name is:\")\n",
    "print(\"hello mr. \",x)"
   ]
  },
  {
   "cell_type": "code",
   "execution_count": 35,
   "id": "c53b3606-f8c5-4178-bf08-aa365fe0d273",
   "metadata": {},
   "outputs": [
    {
     "name": "stdout",
     "output_type": "stream",
     "text": [
      "compnay name is Regex software year is  2024\n"
     ]
    }
   ],
   "source": [
    "print(\"compnay name is\",company,\"year is \",year)"
   ]
  },
  {
   "cell_type": "code",
   "execution_count": 36,
   "id": "6217e67f-e3d4-46e8-9413-667edf58ba34",
   "metadata": {},
   "outputs": [
    {
     "name": "stdout",
     "output_type": "stream",
     "text": [
      "company name is Regex software year is 2024\n"
     ]
    }
   ],
   "source": [
    "print(f\"company name is {company} year is {year}\")"
   ]
  },
  {
   "cell_type": "code",
   "execution_count": 40,
   "id": "2b420fd6-a30d-4cb1-ba40-1007ba91a478",
   "metadata": {},
   "outputs": [
    {
     "name": "stdout",
     "output_type": "stream",
     "text": [
      "hello user  rahul\n"
     ]
    }
   ],
   "source": [
    "username=\"rahul\"\n",
    "msg=f\"hello user  {username}\"\n",
    "username=\"mohit\"\n",
    "print(msg)"
   ]
  },
  {
   "cell_type": "raw",
   "id": "ed712a44-8706-4818-b82a-001c5b1525e5",
   "metadata": {},
   "source": [
    "print(\"company name is {} year is {}\".format(\"Regex\",2024)"
   ]
  },
  {
   "cell_type": "code",
   "execution_count": 42,
   "id": "4a8ba7d8-a6c0-474f-9602-fa0036229c4e",
   "metadata": {},
   "outputs": [
    {
     "name": "stdout",
     "output_type": "stream",
     "text": [
      "company name is Regex year is 2024\n"
     ]
    }
   ],
   "source": [
    "print(\"company name is {} year is {}\".format(\"Regex\",2024))\n"
   ]
  },
  {
   "cell_type": "code",
   "execution_count": 44,
   "id": "524aba5a-2f98-4d31-89b1-c8a8ac430b70",
   "metadata": {},
   "outputs": [
    {
     "name": "stdout",
     "output_type": "stream",
     "text": [
      "company name is 2024 year is Regex\n"
     ]
    }
   ],
   "source": [
    "print(\"company name is {1} year is {0}\".format(\"Regex\",2024))"
   ]
  },
  {
   "cell_type": "code",
   "execution_count": 45,
   "id": "c6047f73-27e3-41a6-9d4f-6f94312da059",
   "metadata": {},
   "outputs": [
    {
     "name": "stdout",
     "output_type": "stream",
     "text": [
      "company name is Regex software year is  2024\n"
     ]
    }
   ],
   "source": [
    "print(\"company name is\",company, \"year is \",year)"
   ]
  },
  {
   "cell_type": "code",
   "execution_count": 46,
   "id": "a58fc5d7-1235-48b7-9ec2-5268e606eb1f",
   "metadata": {},
   "outputs": [
    {
     "name": "stdout",
     "output_type": "stream",
     "text": [
      "company name is Regex software year is 2024\n"
     ]
    }
   ],
   "source": [
    "print(f\"company name is {company} year is {year}\")"
   ]
  },
  {
   "cell_type": "code",
   "execution_count": 56,
   "id": "42e44804-c42c-48d3-b2aa-e3aca1cecd82",
   "metadata": {},
   "outputs": [
    {
     "name": "stdout",
     "output_type": "stream",
     "text": [
      "company name is 2024 year is regex \n"
     ]
    }
   ],
   "source": [
    "print(\"company name is {1} year is {0}\".format(\"regex \" ,2024))"
   ]
  },
  {
   "cell_type": "code",
   "execution_count": 60,
   "id": "ffd66835-930a-4701-a548-4b8c3aabd440",
   "metadata": {},
   "outputs": [
    {
     "name": "stdout",
     "output_type": "stream",
     "text": [
      "2733117800976\n"
     ]
    }
   ],
   "source": [
    "x=10\n",
    "y=x\n",
    "print(id(y))"
   ]
  },
  {
   "cell_type": "code",
   "execution_count": 61,
   "id": "6359321a-2227-46bc-9bca-f206c7bf4da8",
   "metadata": {},
   "outputs": [
    {
     "data": {
      "text/plain": [
       "5.0"
      ]
     },
     "execution_count": 61,
     "metadata": {},
     "output_type": "execute_result"
    }
   ],
   "source": [
    "10/2"
   ]
  },
  {
   "cell_type": "code",
   "execution_count": 62,
   "id": "d646aff2-2d01-4caf-ad47-3077db911e8d",
   "metadata": {},
   "outputs": [
    {
     "data": {
      "text/plain": [
       "5"
      ]
     },
     "execution_count": 62,
     "metadata": {},
     "output_type": "execute_result"
    }
   ],
   "source": [
    "10//2"
   ]
  },
  {
   "cell_type": "code",
   "execution_count": 63,
   "id": "ce2f1b27-773e-4ff7-9633-b7dc52408c03",
   "metadata": {},
   "outputs": [
    {
     "name": "stdout",
     "output_type": "stream",
     "text": [
      "15\n"
     ]
    }
   ],
   "source": [
    "x+=5\n",
    "print(x)"
   ]
  },
  {
   "cell_type": "code",
   "execution_count": null,
   "id": "7efa3d6b-80c1-49c6-93b2-dd55454be9a4",
   "metadata": {},
   "outputs": [],
   "source": []
  }
 ],
 "metadata": {
  "kernelspec": {
   "display_name": "Python 3 (ipykernel)",
   "language": "python",
   "name": "python3"
  },
  "language_info": {
   "codemirror_mode": {
    "name": "ipython",
    "version": 3
   },
   "file_extension": ".py",
   "mimetype": "text/x-python",
   "name": "python",
   "nbconvert_exporter": "python",
   "pygments_lexer": "ipython3",
   "version": "3.10.11"
  }
 },
 "nbformat": 4,
 "nbformat_minor": 5
}
