{
 "cells": [
  {
   "cell_type": "code",
   "execution_count": 23,
   "id": "297b99aa-f788-4a8f-86b8-88e69a7f7af0",
   "metadata": {},
   "outputs": [
    {
     "name": "stdout",
     "output_type": "stream",
     "text": [
      "prime\n"
     ]
    }
   ],
   "source": [
    "def function(num):\n",
    "    x=0\n",
    "    for i in range(2,num):\n",
    "        if(num%2==0):\n",
    "            x=1\n",
    "            break\n",
    "    if(x==1):\n",
    "        print(\"not prime\")\n",
    "\n",
    "\n",
    "    else:\n",
    "        print(\"prime\")\n",
    "\n",
    "function(103)"
   ]
  },
  {
   "cell_type": "code",
   "execution_count": 3,
   "id": "32eca3af-4d8b-4ff7-9f82-991e296d243d",
   "metadata": {},
   "outputs": [
    {
     "name": "stdout",
     "output_type": "stream",
     "text": [
      "123\n"
     ]
    }
   ],
   "source": [
    "print(123)"
   ]
  },
  {
   "cell_type": "code",
   "execution_count": 24,
   "id": "4da6bfef-6d4c-494b-9917-e6a9397c9961",
   "metadata": {},
   "outputs": [
    {
     "name": "stdout",
     "output_type": "stream",
     "text": [
      "prime\n"
     ]
    }
   ],
   "source": [
    "def msg(x):\n",
    "    x=0\n",
    "    for i in range(2,x):\n",
    "        if(x%i==0):\n",
    "            x==1\n",
    "            break\n",
    "\n",
    "    if(x==1):\n",
    "        print(\"not prime \")\n",
    "\n",
    "\n",
    "    else:\n",
    "        print(\"prime\")\n",
    "\n",
    "msg(7)"
   ]
  },
  {
   "cell_type": "code",
   "execution_count": 25,
   "id": "809da3c4-2767-4092-875a-794d472c3c01",
   "metadata": {},
   "outputs": [
    {
     "name": "stdout",
     "output_type": "stream",
     "text": [
      "D E F G H I  \n",
      "J K L M N  \n",
      "O P Q R  \n",
      "S T U  \n",
      "V W  \n",
      "X  \n"
     ]
    }
   ],
   "source": [
    "def func(x):\n",
    "    count=68\n",
    "    for i in range(1,x+1):\n",
    "        for j in range(i,x+1):\n",
    "            print( chr(count) ,end=\" \")\n",
    "            count+=1\n",
    "        print(\" \")\n",
    "        \n",
    "func(6)\n",
    "    \n"
   ]
  },
  {
   "cell_type": "code",
   "execution_count": 46,
   "id": "24921d47-20fa-4f5f-a34b-2166174887bb",
   "metadata": {},
   "outputs": [
    {
     "name": "stdout",
     "output_type": "stream",
     "text": [
      "D E F G H  \n",
      "I J K L  \n",
      "M N O  \n",
      "P Q  \n",
      "R  \n"
     ]
    }
   ],
   "source": [
    "def msg(n):\n",
    "    x=68\n",
    "    for i in range(1,n):\n",
    "        for j in range(i,n):\n",
    "            print(chr(x),end=\" \")\n",
    "        \n",
    "            x=x+1\n",
    "        print(\" \")\n",
    "msg(6)\n"
   ]
  },
  {
   "cell_type": "code",
   "execution_count": 54,
   "id": "48deb4f4-196c-4033-9ba3-04e7b1527fad",
   "metadata": {
    "scrolled": true
   },
   "outputs": [
    {
     "ename": "UnboundLocalError",
     "evalue": "local variable 'max' referenced before assignment",
     "output_type": "error",
     "traceback": [
      "\u001b[1;31m---------------------------------------------------------------------------\u001b[0m",
      "\u001b[1;31mUnboundLocalError\u001b[0m                         Traceback (most recent call last)",
      "Cell \u001b[1;32mIn[54], line 12\u001b[0m\n\u001b[0;32m      5\u001b[0m             \u001b[38;5;28;01mbreak\u001b[39;00m\n\u001b[0;32m      6\u001b[0m             \u001b[38;5;28mprint\u001b[39m(\u001b[38;5;124m\"\u001b[39m\u001b[38;5;124mlcm=\u001b[39m\u001b[38;5;124m\"\u001b[39m,\u001b[38;5;28mmax\u001b[39m)\n\u001b[1;32m---> 12\u001b[0m \u001b[43mmsg\u001b[49m\u001b[43m(\u001b[49m\u001b[38;5;241;43m2\u001b[39;49m\u001b[43m,\u001b[49m\u001b[38;5;241;43m6\u001b[39;49m\u001b[43m)\u001b[49m\n",
      "Cell \u001b[1;32mIn[54], line 2\u001b[0m, in \u001b[0;36mmsg\u001b[1;34m(x, y)\u001b[0m\n\u001b[0;32m      1\u001b[0m \u001b[38;5;28;01mdef\u001b[39;00m \u001b[38;5;21mmsg\u001b[39m(x,y):\n\u001b[1;32m----> 2\u001b[0m     \u001b[38;5;28mmax\u001b[39m\u001b[38;5;241m=\u001b[39m\u001b[38;5;28;43mmax\u001b[39;49m[x,y]\n\u001b[0;32m      3\u001b[0m     \u001b[38;5;28;01mwhile\u001b[39;00m(\u001b[38;5;28;01mTrue\u001b[39;00m):\n\u001b[0;32m      4\u001b[0m         \u001b[38;5;28;01mif\u001b[39;00m(\u001b[38;5;28mmax\u001b[39m\u001b[38;5;241m%\u001b[39mx\u001b[38;5;241m==\u001b[39m\u001b[38;5;241m0\u001b[39m \u001b[38;5;129;01mand\u001b[39;00m \u001b[38;5;28mmax\u001b[39m\u001b[38;5;241m%\u001b[39my\u001b[38;5;241m==\u001b[39m\u001b[38;5;241m0\u001b[39m):\n",
      "\u001b[1;31mUnboundLocalError\u001b[0m: local variable 'max' referenced before assignment"
     ]
    }
   ],
   "source": [
    "def msg(x,y):\n",
    "    if x>y\n",
    "    while(True):\n",
    "        if(max%x==0 and max%y==0):\n",
    "            break\n",
    "            print(\"lcm=\",max)\n",
    "            \n",
    "            \n",
    "    \n",
    "    \n",
    "\n",
    "msg(2,6)"
   ]
  },
  {
   "cell_type": "code",
   "execution_count": 55,
   "id": "0f16b2ed-c53d-4651-8d12-364102fb7a99",
   "metadata": {},
   "outputs": [
    {
     "name": "stdout",
     "output_type": "stream",
     "text": [
      "1\n"
     ]
    }
   ],
   "source": [
    "print(1)"
   ]
  },
  {
   "cell_type": "code",
   "execution_count": 92,
   "id": "41a74dc1-310f-42b4-bc6c-146a41a8730d",
   "metadata": {},
   "outputs": [
    {
     "name": "stdout",
     "output_type": "stream",
     "text": [
      "100 mtr race partisapit racer:  ['Vikay', 'John', 'Kumar', 'Rajesh', 'Malar', 'Vaiha']\n",
      "200 mtr race partisapit racer:  ['Vetry', 'Petter', 'Priyanka', 'Kumar', 'Malar']\n",
      "100 mtr and 200 mtr both race partisapita racer : {'Malar', 'Kumar'}\n",
      " one race partisapita racer : {'Vaiha', 'Vikay', 'Rajesh', 'Petter', 'Vetry', 'John', 'Priyanka'}\n"
     ]
    }
   ],
   "source": [
    "a=onehmtr = [\"Vikay\",\"John\",\"Kumar\",\"Rajesh\",\"Malar\",\"Vaiha\"]\n",
    "b=twohmtr = [\"Vetry\",\"Petter\",\"Priyanka\",\"Kumar\",\"Malar\"]\n",
    "\n",
    "print(\"100 mtr race partisapit racer: \",onehmtr)\n",
    "print(\"200 mtr race partisapit racer: \",twohmtr)\n",
    "x=set(onehmtr)\n",
    "y=set(twohmtr)\n",
    "coman=x&y\n",
    "print(\"100 mtr and 200 mtr both race partisapita racer :\",coman)\n",
    "onerace=x^y\n",
    "\n",
    "print(\" one race partisapita racer :\",onerace)"
   ]
  },
  {
   "cell_type": "code",
   "execution_count": 80,
   "id": "20a7ca8e-13cb-4a95-8e85-2c7bbf7514f0",
   "metadata": {},
   "outputs": [
    {
     "name": "stdout",
     "output_type": "stream",
     "text": [
      "****\n",
      "*********\n",
      "*******\n"
     ]
    }
   ],
   "source": [
    "def msg(x):\n",
    "    for i in x:\n",
    "        print(\"*\" * i)\n",
    "\n",
    "msg([4,9,7])"
   ]
  },
  {
   "cell_type": "code",
   "execution_count": 93,
   "id": "f7d2575d-3b6d-4407-ad63-7061c80ff283",
   "metadata": {},
   "outputs": [],
   "source": []
  },
  {
   "cell_type": "code",
   "execution_count": 100,
   "id": "189b6cea-2cd5-48bd-b391-da6524bea5f4",
   "metadata": {},
   "outputs": [
    {
     "name": "stdout",
     "output_type": "stream",
     "text": [
      "are of rectangle 20\n"
     ]
    }
   ],
   "source": [
    "def area(x,y):\n",
    "    \n",
    "    if(x==y):\n",
    "        z=x**2\n",
    "        print(\"area of square : \",z)\n",
    "    \n",
    "    else:\n",
    "        print(\"are of rectangle\" ,x*y)\n",
    "\n",
    "area(4,5)"
   ]
  },
  {
   "cell_type": "code",
   "execution_count": 108,
   "id": "64ab4609-9797-4b7d-b642-dec9d1dff95a",
   "metadata": {},
   "outputs": [
    {
     "name": "stdout",
     "output_type": "stream",
     "text": [
      "5\n",
      "10\n",
      "15\n",
      "20\n",
      "25\n",
      "30\n",
      "35\n",
      "40\n",
      "45\n",
      "50\n"
     ]
    }
   ],
   "source": [
    "def table(x):\n",
    "    \n",
    "    for i in range(1,11):\n",
    "        z=x*i\n",
    "        print(z)\n",
    "\n",
    "table(5)"
   ]
  },
  {
   "cell_type": "code",
   "execution_count": 139,
   "id": "f04092e5-bd09-4ee1-a104-dc380421db9e",
   "metadata": {},
   "outputs": [
    {
     "name": "stdout",
     "output_type": "stream",
     "text": [
      "pall\n"
     ]
    }
   ],
   "source": [
    "def msg(x):\n",
    "    \n",
    "    \n",
    "    y=x.replace(\" \", \"\").lower()\n",
    "    \n",
    "    if y==y[::-1]:\n",
    "        print(\"pall\")\n",
    "    \n",
    "    else:\n",
    "        print(\"not\")\n",
    "\n",
    "msg(\"Rar\")\n",
    "        "
   ]
  },
  {
   "cell_type": "code",
   "execution_count": 150,
   "id": "9d9f1118-f68c-49e8-941d-160fbe1619e1",
   "metadata": {},
   "outputs": [
    {
     "name": "stdin",
     "output_type": "stream",
     "text": [
      "chr: rFAD JH\n"
     ]
    },
    {
     "name": "stdout",
     "output_type": "stream",
     "text": [
      "rfad-jh\n"
     ]
    }
   ],
   "source": [
    "x=input(\"chr:\")\n",
    "\n",
    "print(x.replace(\" \",\"-\").lower())"
   ]
  },
  {
   "cell_type": "code",
   "execution_count": 200,
   "id": "e7611e58-8518-4ecf-9c50-9b4eda612d53",
   "metadata": {},
   "outputs": [
    {
     "name": "stdout",
     "output_type": "stream",
     "text": [
      "[-54141, -10, -5, 1, 2, 5, 8, 25, 100]\n"
     ]
    }
   ],
   "source": [
    "x=[1,2,8,25,100,-54141,5,-10,-5]\n",
    "y=sorted(x)\n",
    "print(y)\n"
   ]
  },
  {
   "cell_type": "code",
   "execution_count": null,
   "id": "c4089213-2db9-4dc5-b3ff-b98179797311",
   "metadata": {},
   "outputs": [],
   "source": []
  },
  {
   "cell_type": "code",
   "execution_count": 204,
   "id": "afdeabd2-9f32-421a-a455-82b9c09da2c1",
   "metadata": {},
   "outputs": [
    {
     "name": "stdout",
     "output_type": "stream",
     "text": [
      "[100, 25, 8, 5, 2, 1, -5, -10, -54141]\n"
     ]
    }
   ],
   "source": [
    "def msg(x):\n",
    "    \n",
    "    y=sorted(x,reverse=True)\n",
    "    print(y)\n",
    "msg([1,2,8,25,100,-54141,5,-10,-5])"
   ]
  },
  {
   "cell_type": "code",
   "execution_count": null,
   "id": "81c5c19e-46ae-4fd7-8efe-1f818a59d50a",
   "metadata": {},
   "outputs": [],
   "source": []
  }
 ],
 "metadata": {
  "kernelspec": {
   "display_name": "Python 3 (ipykernel)",
   "language": "python",
   "name": "python3"
  },
  "language_info": {
   "codemirror_mode": {
    "name": "ipython",
    "version": 3
   },
   "file_extension": ".py",
   "mimetype": "text/x-python",
   "name": "python",
   "nbconvert_exporter": "python",
   "pygments_lexer": "ipython3",
   "version": "3.10.11"
  }
 },
 "nbformat": 4,
 "nbformat_minor": 5
}
