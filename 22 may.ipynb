{
 "cells": [
  {
   "cell_type": "code",
   "execution_count": 39,
   "id": "70822934-7a7d-49d7-8046-8711ba9fb567",
   "metadata": {},
   "outputs": [
    {
     "name": "stdout",
     "output_type": "stream",
     "text": [
      "hcf: 50\n"
     ]
    }
   ],
   "source": [
    "def hcf(x,y):\n",
    "\n",
    "\n",
    "    \n",
    "    if(x>y):\n",
    "        max=x\n",
    "    \n",
    "    else:\n",
    "        max=y\n",
    "    \n",
    "    for i in range(1,max+1):\n",
    "        if(x%i==0 and y%i==0):\n",
    "            hcf=i\n",
    "           \n",
    "            \n",
    "            \n",
    "    print(\"hcf:\",hcf)\n",
    "hcf(50,500)\n"
   ]
  },
  {
   "cell_type": "code",
   "execution_count": 50,
   "id": "16a83b0c-8952-43e7-ac12-ba824ddfcdf9",
   "metadata": {},
   "outputs": [
    {
     "name": "stdout",
     "output_type": "stream",
     "text": [
      "hey: 10\n"
     ]
    }
   ],
   "source": [
    "\n",
    "def fyc(x):\n",
    "    print(\"hey:\",x)\n",
    "\n",
    "fyc(10)\n",
    "\n"
   ]
  },
  {
   "cell_type": "code",
   "execution_count": 54,
   "id": "34517270-cd95-42ca-b997-c85251c0f387",
   "metadata": {},
   "outputs": [
    {
     "name": "stdout",
     "output_type": "stream",
     "text": [
      "hey:\n"
     ]
    }
   ],
   "source": [
    "def fyc():\n",
    "    print(\"hey:\")\n",
    "\n",
    "fyc()\n"
   ]
  },
  {
   "cell_type": "code",
   "execution_count": 55,
   "id": "7d33d974-1dce-414f-ae6e-82a47cba9feb",
   "metadata": {},
   "outputs": [
    {
     "name": "stdout",
     "output_type": "stream",
     "text": [
      "hey:\n"
     ]
    }
   ],
   "source": [
    "fyc()"
   ]
  },
  {
   "cell_type": "code",
   "execution_count": 58,
   "id": "98ef3b4d-95e2-4b3e-861c-d1a277e30dda",
   "metadata": {},
   "outputs": [
    {
     "name": "stdout",
     "output_type": "stream",
     "text": [
      "hey: 1\n",
      "hey: 2\n",
      "hey: 3\n"
     ]
    }
   ],
   "source": [
    "\n",
    "def fyc():\n",
    "    for i in range(1,4):\n",
    "        \n",
    "        print(\"hey:\",i)\n",
    "\n",
    "fyc()\n"
   ]
  },
  {
   "cell_type": "code",
   "execution_count": 62,
   "id": "02bc046c-4270-43d5-be91-0396c40b0db1",
   "metadata": {},
   "outputs": [
    {
     "name": "stdout",
     "output_type": "stream",
     "text": [
      "hey: 1\n",
      "hey: 2\n",
      "hey: 3\n"
     ]
    }
   ],
   "source": [
    "for i in range(1):\n",
    "    fyc()    "
   ]
  },
  {
   "cell_type": "code",
   "execution_count": 67,
   "id": "86abdef4-bf8b-4f81-b015-1f05187932b0",
   "metadata": {},
   "outputs": [
    {
     "name": "stdout",
     "output_type": "stream",
     "text": [
      "hey 10\n",
      "5\n"
     ]
    }
   ],
   "source": [
    "num=5\n",
    "def fuc():\n",
    "    num=10\n",
    "    print(\"hey\",num)\n",
    "\n",
    "fuc()\n",
    "print(num)"
   ]
  },
  {
   "cell_type": "code",
   "execution_count": 66,
   "id": "873f8689-e95e-42c4-9a8a-acdecc836900",
   "metadata": {},
   "outputs": [
    {
     "name": "stdout",
     "output_type": "stream",
     "text": [
      "hey 10\n"
     ]
    },
    {
     "ename": "NameError",
     "evalue": "name 'num' is not defined",
     "output_type": "error",
     "traceback": [
      "\u001b[1;31m---------------------------------------------------------------------------\u001b[0m",
      "\u001b[1;31mNameError\u001b[0m                                 Traceback (most recent call last)",
      "Cell \u001b[1;32mIn[66], line 6\u001b[0m\n\u001b[0;32m      3\u001b[0m     \u001b[38;5;28mprint\u001b[39m(\u001b[38;5;124m\"\u001b[39m\u001b[38;5;124mhey\u001b[39m\u001b[38;5;124m\"\u001b[39m,num)\n\u001b[0;32m      5\u001b[0m func()\n\u001b[1;32m----> 6\u001b[0m \u001b[38;5;28mprint\u001b[39m(\u001b[43mnum\u001b[49m)\n",
      "\u001b[1;31mNameError\u001b[0m: name 'num' is not defined"
     ]
    }
   ],
   "source": []
  },
  {
   "cell_type": "code",
   "execution_count": 70,
   "id": "af474c9e-11f0-456a-bb82-7f8bf481f0dc",
   "metadata": {},
   "outputs": [
    {
     "name": "stdout",
     "output_type": "stream",
     "text": [
      "hello mr. rahul\n",
      "hello mr. mohit\n"
     ]
    }
   ],
   "source": [
    "def msg(x):\n",
    "    print(\"hello mr.\",x)\n",
    "\n",
    "\n",
    "msg('rahul')\n",
    "msg('mohit')"
   ]
  },
  {
   "cell_type": "code",
   "execution_count": 71,
   "id": "a2e0d3a3-46fb-490a-b8e1-fae927d42d51",
   "metadata": {},
   "outputs": [
    {
     "name": "stdout",
     "output_type": "stream",
     "text": [
      "hello mr. raju\n"
     ]
    }
   ],
   "source": [
    "def msg(x):\n",
    "    print(\"hello mr.\",x)\n",
    "\n",
    "x='raju'\n",
    "msg(x)"
   ]
  },
  {
   "cell_type": "code",
   "execution_count": 76,
   "id": "39d2fb46-d102-47b0-87b5-3f96e61d2df2",
   "metadata": {},
   "outputs": [
    {
     "name": "stdout",
     "output_type": "stream",
     "text": [
      "60\n",
      "num: 50\n"
     ]
    }
   ],
   "source": [
    "def mg(n):\n",
    "    n=n+10\n",
    "    print(n)\n",
    "\n",
    "n=50\n",
    "mg(n)\n",
    "print(\"num:\",n)"
   ]
  },
  {
   "cell_type": "code",
   "execution_count": 77,
   "id": "e194168e-95e2-4d81-bfef-01a4f31b30b7",
   "metadata": {},
   "outputs": [
    {
     "name": "stdout",
     "output_type": "stream",
     "text": [
      "100 200\n"
     ]
    }
   ],
   "source": [
    "x=200\n",
    "y=100\n",
    "x,y=y,x\n",
    "print(x,y)"
   ]
  },
  {
   "cell_type": "code",
   "execution_count": 81,
   "id": "d3ff6f52-fbca-44d0-ba06-5c41d488bd68",
   "metadata": {},
   "outputs": [
    {
     "name": "stdout",
     "output_type": "stream",
     "text": [
      "eid num:10\n",
      "name:rahul verma\n",
      "gmail;rahul@gmail.com\n"
     ]
    }
   ],
   "source": [
    "def employ(eid,name,mail):\n",
    "    print(f\"eid num:{eid}\\nname:{name}\\ngmail;{mail}\")\n",
    "\n",
    "employ(10,\"rahul verma\",\"rahul@gmail.com\")"
   ]
  },
  {
   "cell_type": "code",
   "execution_count": 82,
   "id": "d1dcdf05-18ba-43b4-8b76-5ec458e3dd98",
   "metadata": {},
   "outputs": [
    {
     "name": "stdout",
     "output_type": "stream",
     "text": [
      "eid num:10\n",
      "name:rahul verma\n",
      "gmail;regex@.com\n"
     ]
    }
   ],
   "source": [
    "#default\n",
    "\n",
    "def employ(eid,name,mail=\"regex@.com\"):\n",
    "    print(f\"eid num:{eid}\\nname:{name}\\ngmail;{mail}\")\n",
    "\n",
    "employ(10,\"rahul verma\")"
   ]
  },
  {
   "cell_type": "code",
   "execution_count": 92,
   "id": "a0c539e3-7dd4-4859-b43f-7d57c663d59b",
   "metadata": {},
   "outputs": [
    {
     "name": "stdout",
     "output_type": "stream",
     "text": [
      "('rahul', 1223, 'rahil.com') <class 'tuple'>\n",
      "(1,) <class 'tuple'>\n",
      "() <class 'tuple'>\n"
     ]
    }
   ],
   "source": [
    "def facebook( *data):\n",
    "    print(data,type(data))\n",
    "\n",
    "facebook(\"rahul\", 1223,\"rahil.com\")\n",
    "facebook(1)\n",
    "facebook()"
   ]
  },
  {
   "cell_type": "code",
   "execution_count": 90,
   "id": "0d084475-e922-4cfd-9b81-c90ee9c707e8",
   "metadata": {},
   "outputs": [
    {
     "name": "stdout",
     "output_type": "stream",
     "text": [
      "{'n': 'rahul', 'num': 1223, 'gmail': 'rahil.com'} <class 'dict'>\n",
      "{'n1': 0} <class 'dict'>\n"
     ]
    }
   ],
   "source": [
    "def facebook( **data):\n",
    "    print(data,type(data))\n",
    "\n",
    "facebook(n=\"rahul\",num= 1223,gmail=\"rahil.com\")\n",
    "facebook(n1=0)"
   ]
  },
  {
   "cell_type": "code",
   "execution_count": 94,
   "id": "bdbefe1b-aff0-4ca2-9a5d-fa4decfe3b87",
   "metadata": {},
   "outputs": [
    {
     "ename": "ModuleNotFoundError",
     "evalue": "No module named 'numpy'",
     "output_type": "error",
     "traceback": [
      "\u001b[1;31m---------------------------------------------------------------------------\u001b[0m",
      "\u001b[1;31mModuleNotFoundError\u001b[0m                       Traceback (most recent call last)",
      "Cell \u001b[1;32mIn[94], line 1\u001b[0m\n\u001b[1;32m----> 1\u001b[0m \u001b[38;5;28;01mimport\u001b[39;00m \u001b[38;5;21;01mnumpy\u001b[39;00m \u001b[38;5;28;01mas\u001b[39;00m \u001b[38;5;21;01mnp\u001b[39;00m\n\u001b[0;32m      2\u001b[0m list1\u001b[38;5;241m=\u001b[39m[\u001b[38;5;241m10\u001b[39m,\u001b[38;5;241m20\u001b[39m,\u001b[38;5;241m30\u001b[39m,\u001b[38;5;241m40\u001b[39m]\n\u001b[0;32m      3\u001b[0m array1\u001b[38;5;241m=\u001b[39mnp\u001b[38;5;241m.\u001b[39marray(list1)\n",
      "\u001b[1;31mModuleNotFoundError\u001b[0m: No module named 'numpy'"
     ]
    }
   ],
   "source": [
    "import numpy as np\n",
    "list1=[10,20,30,40]\n",
    "array1= np.array(list1)\n",
    "print(array1)"
   ]
  },
  {
   "cell_type": "code",
   "execution_count": null,
   "id": "bd922204-17f8-49ee-bb52-2c13f4d21670",
   "metadata": {},
   "outputs": [],
   "source": []
  }
 ],
 "metadata": {
  "kernelspec": {
   "display_name": "Python 3 (ipykernel)",
   "language": "python",
   "name": "python3"
  },
  "language_info": {
   "codemirror_mode": {
    "name": "ipython",
    "version": 3
   },
   "file_extension": ".py",
   "mimetype": "text/x-python",
   "name": "python",
   "nbconvert_exporter": "python",
   "pygments_lexer": "ipython3",
   "version": "3.10.11"
  }
 },
 "nbformat": 4,
 "nbformat_minor": 5
}
