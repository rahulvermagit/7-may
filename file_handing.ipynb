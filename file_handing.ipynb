{
 "cells": [
  {
   "cell_type": "code",
   "execution_count": 8,
   "id": "3a94eb74-2861-49fa-bc61-148141915f89",
   "metadata": {},
   "outputs": [
    {
     "data": {
      "text/plain": [
       "'hlo mr. rahul \\ni am studing in data science'"
      ]
     },
     "execution_count": 8,
     "metadata": {},
     "output_type": "execute_result"
    }
   ],
   "source": [
    "f=open(\"aman.txt\")\n",
    "f.read()"
   ]
  },
  {
   "cell_type": "code",
   "execution_count": 15,
   "id": "93caad26-a626-4949-ada1-8754c3ed3d08",
   "metadata": {},
   "outputs": [],
   "source": [
    "f=open(\"aman.txt\",\"w\")\n",
    "f.write(\"python is very importand for data science \")\n",
    "f.close()\n"
   ]
  },
  {
   "cell_type": "code",
   "execution_count": 11,
   "id": "3d35683c-efc0-4d13-96e6-ffbf4f9221e5",
   "metadata": {},
   "outputs": [
    {
     "data": {
      "text/plain": [
       "'python is very importand for data science'"
      ]
     },
     "execution_count": 11,
     "metadata": {},
     "output_type": "execute_result"
    }
   ],
   "source": [
    "f=open(\"aman.txt\")\n",
    "f.read()"
   ]
  },
  {
   "cell_type": "code",
   "execution_count": 16,
   "id": "aee327e7-bfbf-457f-8c34-3d297149ace2",
   "metadata": {},
   "outputs": [],
   "source": [
    "f=open(\"aman.txt\",\"a\")\n",
    "f.write(\"it is very good corse\")\n",
    "f.close()\n"
   ]
  },
  {
   "cell_type": "code",
   "execution_count": 17,
   "id": "f7f4f881-e8b4-4271-850c-cac9db5c43ae",
   "metadata": {},
   "outputs": [
    {
     "data": {
      "text/plain": [
       "'python is very importand for data science it is very good corse'"
      ]
     },
     "execution_count": 17,
     "metadata": {},
     "output_type": "execute_result"
    }
   ],
   "source": [
    "f=open(\"aman.txt\")\n",
    "f.read()"
   ]
  },
  {
   "cell_type": "markdown",
   "id": "38661b1f-3f51-4c0b-96c1-0321128bad3e",
   "metadata": {},
   "source": [
    "### file bnana"
   ]
  },
  {
   "cell_type": "code",
   "execution_count": 18,
   "id": "b060c0d2-837c-44e7-b1ea-a4e34f63d502",
   "metadata": {},
   "outputs": [
    {
     "name": "stdout",
     "output_type": "stream",
     "text": [
      "file create succesfull\n"
     ]
    }
   ],
   "source": [
    "ff=open(\"C:\\\\Users\\\\ASUS\\\\OneDrive\\\\Desktop\\\\phython1\\\\abc.txt\",\"x\")\n",
    "print(\"file create succesfull\")"
   ]
  },
  {
   "cell_type": "code",
   "execution_count": 22,
   "id": "2d1ec575-9f71-4546-9af0-0070a72b2dbe",
   "metadata": {},
   "outputs": [],
   "source": [
    "ff=open(\"abc.txt\",\"w\")\n",
    "ff.write(\"hlo mr. rahul\")\n",
    "ff.close()"
   ]
  },
  {
   "cell_type": "code",
   "execution_count": 24,
   "id": "32bacc05-a315-46eb-b550-4568c5402eb6",
   "metadata": {},
   "outputs": [
    {
     "data": {
      "text/plain": [
       "'hlo mr. rahul'"
      ]
     },
     "execution_count": 24,
     "metadata": {},
     "output_type": "execute_result"
    }
   ],
   "source": [
    "ff=open(\"abc.txt\")\n",
    "ff.read()"
   ]
  },
  {
   "cell_type": "code",
   "execution_count": 28,
   "id": "0b34b21e-5b59-43b3-af48-44cd569c9b06",
   "metadata": {},
   "outputs": [],
   "source": [
    "ff=open(\"C:\\\\Users\\\\ASUS\\\\OneDrive\\\\Desktop\\\\phython1\\\\abc.txt\",\"w\")\n",
    "ff.write(\"hlo hey \")\n",
    "ff.close()"
   ]
  },
  {
   "cell_type": "code",
   "execution_count": 32,
   "id": "9adb3d6e-19f4-4b07-a59c-3ae6ef765ce9",
   "metadata": {},
   "outputs": [
    {
     "data": {
      "text/plain": [
       "'hlo hey '"
      ]
     },
     "execution_count": 32,
     "metadata": {},
     "output_type": "execute_result"
    }
   ],
   "source": [
    "ff=open(\"C:\\\\Users\\\\ASUS\\\\OneDrive\\\\Desktop\\\\phython1\\\\abc.txt\")\n",
    "x=ff.read()\n",
    "x"
   ]
  },
  {
   "cell_type": "markdown",
   "id": "5789f7b8-b2ad-4d59-b12c-7b0dee7c89c9",
   "metadata": {},
   "source": [
    "## seek se ham jha se likhna start kre usi indexing se start hoga"
   ]
  },
  {
   "cell_type": "code",
   "execution_count": 35,
   "id": "7894ad4a-913a-4216-8a68-b9403941ad14",
   "metadata": {},
   "outputs": [
    {
     "name": "stdout",
     "output_type": "stream",
     "text": [
      "0\n",
      "write 3\n",
      "pur\n"
     ]
    }
   ],
   "source": [
    "fileobj = open(\"aman.txt\",\"w+\")\n",
    "\n",
    "print( fileobj.tell() )\n",
    "fileobj.write(\"jaipur\")\n",
    "fileobj.seek(3)\n",
    "print( \"write\", fileobj.tell() )\n",
    "\n",
    "x=fileobj.read()\n",
    "\n",
    "fileobj.close()\n",
    "\n",
    "print(x)"
   ]
  },
  {
   "cell_type": "code",
   "execution_count": 36,
   "id": "b7ba2bef-36b5-42d4-a1e1-8fd1a1f75531",
   "metadata": {},
   "outputs": [
    {
     "name": "stdout",
     "output_type": "stream",
     "text": [
      "jaipur\n"
     ]
    }
   ],
   "source": [
    "#  fileobj = open(\"aman.txt\",\"w+\")\n",
    "\n",
    "with open(\"aman.txt\",\"r\") as fileobj:\n",
    "    out = fileobj.read()\n",
    "    \n",
    "print(out)"
   ]
  },
  {
   "cell_type": "code",
   "execution_count": 38,
   "id": "216f7af7-35b7-47d2-8293-94a8a210e77b",
   "metadata": {},
   "outputs": [
    {
     "name": "stdout",
     "output_type": "stream",
     "text": [
      "hlo mr. rahul\n"
     ]
    }
   ],
   "source": [
    "with open(\"abc.txt\",\"r\")  as ff:\n",
    "    out = ff.read()\n",
    "print(out)"
   ]
  },
  {
   "cell_type": "markdown",
   "id": "4f8cb0ac-f50f-4adb-b5bd-bab2762b1edd",
   "metadata": {},
   "source": [
    "with open(\"aman.txt\",\"r\") as fileobj:\n",
    "    print( fileobj.readline() )\n",
    "    print( fileobj.readline() )\n",
    "\n",
    "\n",
    "\n",
    "###### esme line wise show hoga"
   ]
  },
  {
   "cell_type": "code",
   "execution_count": 41,
   "id": "f65a5914-20c0-4fa1-8831-94ace8ecc54c",
   "metadata": {},
   "outputs": [
    {
     "name": "stdout",
     "output_type": "stream",
     "text": [
      "jaipur\n",
      "\n",
      "aagra\n"
     ]
    }
   ],
   "source": [
    "with open(\"aman.txt\",\"r\") as fileobj:\n",
    "    print( fileobj.readline() )\n",
    "    print( fileobj.readline() )\n",
    "    "
   ]
  },
  {
   "cell_type": "code",
   "execution_count": 43,
   "id": "a813ac3c-1b57-4c9a-b83f-f845088baf48",
   "metadata": {},
   "outputs": [
    {
     "name": "stdout",
     "output_type": "stream",
     "text": [
      "jaipur\n",
      "aagra\n"
     ]
    }
   ],
   "source": [
    "with open(\"aman.txt\",\"r\") as fileobj:\n",
    "    for line in fileobj.readlines():\n",
    "        print( line.strip()   )\n",
    "\n",
    "# gap kam krne ke liye"
   ]
  },
  {
   "cell_type": "markdown",
   "id": "85c8c8c2-3e0f-4bf2-8e8d-2d97ecba2091",
   "metadata": {},
   "source": [
    "# a csv \n",
    "# comma seprated values\n",
    "#  id,name,email \n",
    "#  id$name$email  (DSV files)"
   ]
  },
  {
   "cell_type": "code",
   "execution_count": 46,
   "id": "147857f5-4186-4b03-83c2-7089cbfc970e",
   "metadata": {},
   "outputs": [],
   "source": [
    "import csv"
   ]
  },
  {
   "cell_type": "code",
   "execution_count": 50,
   "id": "c667ed6a-100b-454c-afd8-9b3cc46ce410",
   "metadata": {},
   "outputs": [
    {
     "name": "stdout",
     "output_type": "stream",
     "text": [
      "1 rahul rahul@gamil.com\n",
      "2 agrwal agwal.com\n"
     ]
    }
   ],
   "source": [
    "f = open(\"aman.txt\")\n",
    "fileobj  = csv.reader(f)\n",
    "for  line in fileobj:\n",
    "    ids,name,email=line\n",
    "    print(ids, name,email)\n",
    "\n",
    "# esme file me liskhi values coma ke esab se aati h"
   ]
  },
  {
   "cell_type": "code",
   "execution_count": 52,
   "id": "c58a3433-a91c-42fc-bd37-cdc580fc91b7",
   "metadata": {},
   "outputs": [
    {
     "name": "stdout",
     "output_type": "stream",
     "text": [
      "1 rahul agwal.com\n",
      "2 agrwal agwal.com\n"
     ]
    }
   ],
   "source": [
    "with open(\"aman.txt\",\"r\") as fileobj:\n",
    "    for line in fileobj.readlines():\n",
    "        line=line.strip()\n",
    "        x= line.split(\",\")\n",
    "        \n",
    "        idd, name,mail=x\n",
    "        print(idd, name,email)  "
   ]
  },
  {
   "cell_type": "code",
   "execution_count": null,
   "id": "11748d68-089d-4aab-9e6a-2d2ce6e9d2f1",
   "metadata": {},
   "outputs": [],
   "source": []
  }
 ],
 "metadata": {
  "kernelspec": {
   "display_name": "Python 3 (ipykernel)",
   "language": "python",
   "name": "python3"
  },
  "language_info": {
   "codemirror_mode": {
    "name": "ipython",
    "version": 3
   },
   "file_extension": ".py",
   "mimetype": "text/x-python",
   "name": "python",
   "nbconvert_exporter": "python",
   "pygments_lexer": "ipython3",
   "version": "3.10.11"
  }
 },
 "nbformat": 4,
 "nbformat_minor": 5
}
