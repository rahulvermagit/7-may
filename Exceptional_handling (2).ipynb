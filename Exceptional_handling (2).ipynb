{
 "cells": [
  {
   "cell_type": "markdown",
   "id": "a172f8c1-9d1f-4565-8bb8-8bac1de9b980",
   "metadata": {},
   "source": [
    "#exeptional handling"
   ]
  },
  {
   "cell_type": "code",
   "execution_count": 2,
   "id": "aeb6c44e-5075-4e62-b55d-17d31cc456b1",
   "metadata": {},
   "outputs": [
    {
     "name": "stdout",
     "output_type": "stream",
     "text": [
      "hello\n"
     ]
    },
    {
     "ename": "ZeroDivisionError",
     "evalue": "division by zero",
     "output_type": "error",
     "traceback": [
      "\u001b[1;31m---------------------------------------------------------------------------\u001b[0m",
      "\u001b[1;31mZeroDivisionError\u001b[0m                         Traceback (most recent call last)",
      "Cell \u001b[1;32mIn[2], line 2\u001b[0m\n\u001b[0;32m      1\u001b[0m \u001b[38;5;28mprint\u001b[39m(\u001b[38;5;124m\"\u001b[39m\u001b[38;5;124mhello\u001b[39m\u001b[38;5;124m\"\u001b[39m)\n\u001b[1;32m----> 2\u001b[0m \u001b[38;5;241;43m10\u001b[39;49m\u001b[38;5;241;43m/\u001b[39;49m\u001b[38;5;241;43m0\u001b[39;49m\n\u001b[0;32m      3\u001b[0m \u001b[38;5;28mprint\u001b[39m(\u001b[38;5;124m\"\u001b[39m\u001b[38;5;124mhey\u001b[39m\u001b[38;5;124m\"\u001b[39m)\n",
      "\u001b[1;31mZeroDivisionError\u001b[0m: division by zero"
     ]
    }
   ],
   "source": [
    "print(\"hello\")\n",
    "10/0\n",
    "print(\"hey\")\n"
   ]
  },
  {
   "cell_type": "raw",
   "id": "63c20d3e-e922-4346-9664-df868715a602",
   "metadata": {},
   "source": [
    "### expectional handling"
   ]
  },
  {
   "cell_type": "raw",
   "id": "1236bc07-c7a7-428c-87e8-bf5c5df336ed",
   "metadata": {},
   "source": [
    "try:\n",
    "    print(\"hello\")\n",
    "\n",
    "    10/0\n",
    "    print(\"hey\")\n",
    "\n",
    "except:\n",
    "    print(\"error handle\")\n"
   ]
  },
  {
   "cell_type": "code",
   "execution_count": 6,
   "id": "234f7e04-d161-4856-a7d5-7db0345992b5",
   "metadata": {},
   "outputs": [
    {
     "name": "stdout",
     "output_type": "stream",
     "text": [
      "hello\n",
      "hey\n"
     ]
    }
   ],
   "source": [
    "try:\n",
    "    print(\"hello\")\n",
    "\n",
    "    10/10\n",
    "    print(\"hey\")\n",
    "\n",
    "except:\n",
    "    print(\"error handle\")\n",
    "# if error nhi aati to pura function normal chlega phle jese chlta h\n",
    "# except jab hi chlega jab try me error aayga"
   ]
  },
  {
   "cell_type": "code",
   "execution_count": 9,
   "id": "db2aa3bf-a03a-4b57-a554-f9f1adc5b7fe",
   "metadata": {},
   "outputs": [
    {
     "name": "stdout",
     "output_type": "stream",
     "text": [
      "hello\n",
      "error handle division by zero\n"
     ]
    }
   ],
   "source": [
    "try:\n",
    "    print(\"hello\")\n",
    "\n",
    "    10/0\n",
    "    print(\"hey\")\n",
    "\n",
    "except ZeroDivisionError as e:\n",
    "    print(\"error handle\",e)\n"
   ]
  },
  {
   "cell_type": "code",
   "execution_count": 13,
   "id": "91c6dff8-eb3f-419c-a82a-5d78ad339c7f",
   "metadata": {},
   "outputs": [
    {
     "name": "stdout",
     "output_type": "stream",
     "text": [
      "hello\n",
      "error handle name 'gf' is not defined\n"
     ]
    }
   ],
   "source": [
    "try:\n",
    "    print(\"hello\")\n",
    "\n",
    "    10/gf\n",
    "    print(\"hey\")\n",
    "\n",
    "except (NameError,ZeroDivisionError) as e:\n",
    "    print(\"error handle\",e)\n"
   ]
  },
  {
   "cell_type": "code",
   "execution_count": 14,
   "id": "a0488d75-b76b-48fc-9e7e-612544f4b892",
   "metadata": {},
   "outputs": [
    {
     "name": "stdout",
     "output_type": "stream",
     "text": [
      "hello\n",
      "error handle division by zero\n"
     ]
    }
   ],
   "source": [
    "try:\n",
    "    print(\"hello\")\n",
    "\n",
    "    10/0\n",
    "    print(\"hey\")\n",
    "\n",
    "except (NameError,ZeroDivisionError) as e:\n",
    "    print(\"error handle\",e)\n"
   ]
  },
  {
   "cell_type": "code",
   "execution_count": 35,
   "id": "e7c1d730-8d57-4a0c-bc79-b499b902a8fa",
   "metadata": {},
   "outputs": [
    {
     "name": "stdout",
     "output_type": "stream",
     "text": [
      "hello\n",
      "Exception class error handle\n"
     ]
    }
   ],
   "source": [
    "try:\n",
    "    print(\"hello\")\n",
    "\n",
    "    x=\"rahul\"\n",
    "    x[10]\n",
    "    \n",
    "    \n",
    "    print(\"hey\")\n",
    "\n",
    "except (NameError,ZeroDivisionError) as e:\n",
    "    print(\"error handle\",e)             # esme jo apn jante hai bo error likh dete hai\n",
    "\n",
    "except Exception:\n",
    "    print(\"Exception class error handle\")  #esme no error aate hai jis error ka hme pta nhi ho phle se\n"
   ]
  },
  {
   "cell_type": "code",
   "execution_count": 31,
   "id": "846b6f81-717f-4321-b021-030af6b0a68c",
   "metadata": {},
   "outputs": [
    {
     "name": "stdout",
     "output_type": "stream",
     "text": [
      "hello\n",
      "hey\n"
     ]
    }
   ],
   "source": [
    "try:\n",
    "    print(\"hello\")\n",
    "\n",
    "    x=\"rahul\"\n",
    "    \n",
    "    try:\n",
    "        x[1]\n",
    "\n",
    "    except :\n",
    "        print(\"index arror\")\n",
    "    \n",
    "    print(\"hey\")\n",
    "\n",
    "except (NameError,ZeroDivisionError) as e:\n",
    "    print(\"error handle\",e)\n",
    "\n",
    "except Exception:\n",
    "    print(\"Exception class error handle\")\n"
   ]
  },
  {
   "cell_type": "code",
   "execution_count": 32,
   "id": "98b16597-23b2-40bf-be79-9e4bbbeabc78",
   "metadata": {},
   "outputs": [
    {
     "name": "stdout",
     "output_type": "stream",
     "text": [
      "hello\n",
      "index arror\n",
      "hey\n"
     ]
    }
   ],
   "source": [
    "try:\n",
    "    print(\"hello\")\n",
    "\n",
    "    x=\"rahul\"\n",
    "    \n",
    "    try:\n",
    "        x[11]\n",
    "\n",
    "    except :\n",
    "        print(\"index arror\")\n",
    "    \n",
    "    print(\"hey\")\n",
    "\n",
    "except (NameError,ZeroDivisionError) as e:\n",
    "    print(\"error handle\",e)\n",
    "\n",
    "except Exception:\n",
    "    print(\"Exception class error handle\")\n"
   ]
  },
  {
   "cell_type": "code",
   "execution_count": 8,
   "id": "cb55749a-9755-4d6e-96f7-fd51faf3b0eb",
   "metadata": {},
   "outputs": [
    {
     "name": "stdout",
     "output_type": "stream",
     "text": [
      "rahul\n",
      "hey\n",
      "else part exucet\n"
     ]
    }
   ],
   "source": [
    "try:\n",
    "    print('rahul')\n",
    "    10/1\n",
    "    print(\"hey\")\n",
    "\n",
    "except ZeroDivisionError as e:\n",
    "\n",
    "    print(\"something handle error :\" ,e)\n",
    "\n",
    "else:\n",
    "    print(\"else part exucet\")\n",
    "\n",
    "# esme else part jab hi chlega jab try me koi error nhi hoga  agar error hua to except part run hoga\n",
    "    "
   ]
  },
  {
   "cell_type": "code",
   "execution_count": 10,
   "id": "b8e04129-f37a-46ac-ae2f-c2eb515074e9",
   "metadata": {},
   "outputs": [
    {
     "name": "stdout",
     "output_type": "stream",
     "text": [
      "rahul\n",
      "something handle error : division by zero\n",
      "finally  exucet \n"
     ]
    }
   ],
   "source": [
    "try:\n",
    "    print('rahul')\n",
    "    10/0\n",
    "    print(\"hey\")\n",
    "\n",
    "except ZeroDivisionError as e:\n",
    "\n",
    "    print(\"something handle error :\" ,e)\n",
    "\n",
    "finally:\n",
    "    print(\"finally  exucet \")\n",
    "\n",
    "# finally hmesha run hota hai cahe error aaye ya nhi \n",
    "# finally wha use hota hai jaha comlasaaryy ya jarruri ho tab\n",
    "    "
   ]
  },
  {
   "cell_type": "code",
   "execution_count": null,
   "id": "829132ca-97e1-41a9-b591-6f1850365067",
   "metadata": {},
   "outputs": [],
   "source": []
  },
  {
   "cell_type": "code",
   "execution_count": 22,
   "id": "59075823-660c-4958-bf9d-b00e9e04ec62",
   "metadata": {},
   "outputs": [
    {
     "ename": "ValueError",
     "evalue": "",
     "output_type": "error",
     "traceback": [
      "\u001b[1;31m---------------------------------------------------------------------------\u001b[0m",
      "\u001b[1;31mValueError\u001b[0m                                Traceback (most recent call last)",
      "Cell \u001b[1;32mIn[22], line 4\u001b[0m\n\u001b[0;32m      2\u001b[0m age\u001b[38;5;241m=\u001b[39m\u001b[38;5;241m5\u001b[39m\n\u001b[0;32m      3\u001b[0m \u001b[38;5;28;01mif\u001b[39;00m(age\u001b[38;5;241m<\u001b[39m\u001b[38;5;241m18\u001b[39m):\n\u001b[1;32m----> 4\u001b[0m     \u001b[38;5;28;01mraise\u001b[39;00m \u001b[38;5;167;01mValueError\u001b[39;00m\n\u001b[0;32m      5\u001b[0m \u001b[38;5;28;01melse\u001b[39;00m:\n\u001b[0;32m      7\u001b[0m     \u001b[38;5;28mprint\u001b[39m(\u001b[38;5;124m\"\u001b[39m\u001b[38;5;124maccept\u001b[39m\u001b[38;5;124m\"\u001b[39m)\n",
      "\u001b[1;31mValueError\u001b[0m: "
     ]
    }
   ],
   "source": [
    "#raise keyword = exception generate\n",
    "age=5\n",
    "if(age<18):\n",
    "    raise ValueError\n",
    "else:\n",
    "    \n",
    "    print(\"accept\")\n",
    "\n",
    "# esme apan khud error de skte hai raise me agr error nhi hoga to accept print ho jayga"
   ]
  },
  {
   "cell_type": "code",
   "execution_count": 26,
   "id": "e3ff9d6d-637d-4a2f-86c0-0ea1c3261d45",
   "metadata": {},
   "outputs": [
    {
     "name": "stdout",
     "output_type": "stream",
     "text": [
      "all value error is handle\n"
     ]
    }
   ],
   "source": [
    "try:\n",
    "    age=5\n",
    "    if(age<18):\n",
    "        raise ValueError\n",
    "    else:\n",
    "        \n",
    "        print(\"accept\")\n",
    "\n",
    "except ValueError:\n",
    "    print(\"all value error is handle\")\n"
   ]
  },
  {
   "cell_type": "code",
   "execution_count": null,
   "id": "867abdaf-cab6-4afe-b100-37d9fcd7a3b6",
   "metadata": {},
   "outputs": [],
   "source": []
  },
  {
   "cell_type": "code",
   "execution_count": 28,
   "id": "c05750a0-5921-4a69-abb1-35e092c78fbc",
   "metadata": {},
   "outputs": [
    {
     "data": {
      "text/plain": [
       "[10, 10]"
      ]
     },
     "execution_count": 28,
     "metadata": {},
     "output_type": "execute_result"
    }
   ],
   "source": [
    "list(filter(lambda x:x==10 ,[11,10,20,10,30]))\n"
   ]
  },
  {
   "cell_type": "code",
   "execution_count": 29,
   "id": "6bc488b0-66e6-49cb-8ef3-afd19030d9f0",
   "metadata": {},
   "outputs": [
    {
     "data": {
      "text/plain": [
       "[10, 20, 10, 30]"
      ]
     },
     "execution_count": 29,
     "metadata": {},
     "output_type": "execute_result"
    }
   ],
   "source": [
    "list(filter(lambda x:x%10==0 ,[11,10,20,10,30]))\n"
   ]
  },
  {
   "cell_type": "code",
   "execution_count": 33,
   "id": "427aa76c-f358-4592-bc52-d7084192c37c",
   "metadata": {},
   "outputs": [
    {
     "data": {
      "text/plain": [
       "51"
      ]
     },
     "execution_count": 33,
     "metadata": {},
     "output_type": "execute_result"
    }
   ],
   "source": [
    "from functools import reduce\n",
    "reduce (lambda x,y:x+y ,[11 ,10 ,10 ,20 ])"
   ]
  },
  {
   "cell_type": "code",
   "execution_count": 34,
   "id": "77a83863-a031-423f-a837-59e61489e0d0",
   "metadata": {},
   "outputs": [
    {
     "data": {
      "text/plain": [
       "22000"
      ]
     },
     "execution_count": 34,
     "metadata": {},
     "output_type": "execute_result"
    }
   ],
   "source": [
    "from functools import reduce\n",
    "reduce (lambda x,y:x*y ,[11 ,10 ,10 ,20 ])"
   ]
  },
  {
   "cell_type": "code",
   "execution_count": null,
   "id": "e8ebea1c-2bbf-40f1-8b4b-b324ec607a58",
   "metadata": {},
   "outputs": [],
   "source": []
  },
  {
   "cell_type": "code",
   "execution_count": null,
   "id": "667ee136-b4d9-4847-bdc3-6e9323863524",
   "metadata": {},
   "outputs": [],
   "source": []
  },
  {
   "cell_type": "code",
   "execution_count": null,
   "id": "4f54f868-da8a-4007-94dd-c4f3338d190c",
   "metadata": {},
   "outputs": [],
   "source": []
  },
  {
   "cell_type": "code",
   "execution_count": null,
   "id": "5a13ffc6-b8f5-49e5-b0e7-7721c2c3652c",
   "metadata": {},
   "outputs": [],
   "source": []
  },
  {
   "cell_type": "code",
   "execution_count": null,
   "id": "c70ec963-02d0-4b66-a7bb-aa4da100a900",
   "metadata": {},
   "outputs": [],
   "source": []
  },
  {
   "cell_type": "code",
   "execution_count": null,
   "id": "46aae657-04dd-40e2-afcf-fefe61c767c0",
   "metadata": {},
   "outputs": [],
   "source": []
  },
  {
   "cell_type": "code",
   "execution_count": null,
   "id": "2639b51f-48e8-4687-aff1-c0821b697ee2",
   "metadata": {},
   "outputs": [],
   "source": []
  },
  {
   "cell_type": "code",
   "execution_count": null,
   "id": "8d40f4ce-7cba-4854-bcea-8d8c6176ba24",
   "metadata": {},
   "outputs": [],
   "source": []
  },
  {
   "cell_type": "code",
   "execution_count": 14,
   "id": "3983727b-96dd-428b-a896-6426f2521cbe",
   "metadata": {},
   "outputs": [],
   "source": [
    "class House:\n",
    "    color=\"white\"\n",
    "    room=4\n",
    "    def house_info(self):\n",
    "        print(\"hello: \" ,self.color , self.room)\n",
    "\n",
    "# color or room dono hi class varible h enhe class or object dono use kr skte h"
   ]
  },
  {
   "cell_type": "code",
   "execution_count": 13,
   "id": "058effba-a6b8-4386-8ebe-bb1912e28e8c",
   "metadata": {},
   "outputs": [
    {
     "name": "stdout",
     "output_type": "stream",
     "text": [
      "hello:  white 4\n"
     ]
    }
   ],
   "source": [
    "h1=house()\n",
    "h1.house_info()"
   ]
  },
  {
   "cell_type": "code",
   "execution_count": 23,
   "id": "41310d6c-c6e8-46fc-a8d7-4ec90f3f069b",
   "metadata": {},
   "outputs": [],
   "source": [
    "class House:\n",
    "    def __init__(self):\n",
    "        print(\"heyy\")\n",
    "\n"
   ]
  },
  {
   "cell_type": "code",
   "execution_count": null,
   "id": "15219bff-b50c-433f-baae-3a79522ea9f8",
   "metadata": {},
   "outputs": [],
   "source": []
  },
  {
   "cell_type": "code",
   "execution_count": 24,
   "id": "6897f8aa-975d-461b-8ec2-1731f9304b8b",
   "metadata": {},
   "outputs": [
    {
     "name": "stdout",
     "output_type": "stream",
     "text": [
      "heyy\n"
     ]
    }
   ],
   "source": [
    "h1=House()"
   ]
  },
  {
   "cell_type": "code",
   "execution_count": null,
   "id": "068e3fc7-a0d0-4aa1-8d66-6ea64568708b",
   "metadata": {},
   "outputs": [],
   "source": [
    "# self ek eesa varible hai jo current refrence ko store krta hai\n",
    "#self ki value chnage ki ja skti hai "
   ]
  },
  {
   "cell_type": "code",
   "execution_count": 36,
   "id": "753aef7b-943d-41c2-b661-dfe896c6b7fb",
   "metadata": {},
   "outputs": [],
   "source": [
    "class House:\n",
    "    def __init__(self,x):\n",
    "        print(\"heyy\",x)\n",
    "\n"
   ]
  },
  {
   "cell_type": "code",
   "execution_count": 28,
   "id": "b5d8fc29-57f3-4e7a-bb90-8c7c91ee63f5",
   "metadata": {},
   "outputs": [
    {
     "name": "stdout",
     "output_type": "stream",
     "text": [
      "heyy yellow\n"
     ]
    },
    {
     "ename": "NameError",
     "evalue": "name 'x' is not defined",
     "output_type": "error",
     "traceback": [
      "\u001b[1;31m---------------------------------------------------------------------------\u001b[0m",
      "\u001b[1;31mNameError\u001b[0m                                 Traceback (most recent call last)",
      "Cell \u001b[1;32mIn[28], line 2\u001b[0m\n\u001b[0;32m      1\u001b[0m h1\u001b[38;5;241m=\u001b[39mHouse(\u001b[38;5;124m\"\u001b[39m\u001b[38;5;124myellow\u001b[39m\u001b[38;5;124m\"\u001b[39m)\n\u001b[1;32m----> 2\u001b[0m \u001b[38;5;28mprint\u001b[39m(\u001b[43mx\u001b[49m)\n",
      "\u001b[1;31mNameError\u001b[0m: name 'x' is not defined"
     ]
    }
   ],
   "source": [
    "h1=House(\"yellow\")\n",
    "print(x)"
   ]
  },
  {
   "cell_type": "code",
   "execution_count": 29,
   "id": "133c1d91-5b11-4283-88bd-59695d714573",
   "metadata": {},
   "outputs": [
    {
     "name": "stdout",
     "output_type": "stream",
     "text": [
      "heyy yellow\n"
     ]
    },
    {
     "ename": "AttributeError",
     "evalue": "'House' object has no attribute 'color'",
     "output_type": "error",
     "traceback": [
      "\u001b[1;31m---------------------------------------------------------------------------\u001b[0m",
      "\u001b[1;31mAttributeError\u001b[0m                            Traceback (most recent call last)",
      "Cell \u001b[1;32mIn[29], line 2\u001b[0m\n\u001b[0;32m      1\u001b[0m h1\u001b[38;5;241m=\u001b[39mHouse(\u001b[38;5;124m\"\u001b[39m\u001b[38;5;124myellow\u001b[39m\u001b[38;5;124m\"\u001b[39m)\n\u001b[1;32m----> 2\u001b[0m \u001b[38;5;28mprint\u001b[39m(\u001b[43mh1\u001b[49m\u001b[38;5;241;43m.\u001b[39;49m\u001b[43mcolor\u001b[49m)\n",
      "\u001b[1;31mAttributeError\u001b[0m: 'House' object has no attribute 'color'"
     ]
    }
   ],
   "source": [
    "h1=House(\"yellow\")\n",
    "print(h1.color)"
   ]
  },
  {
   "cell_type": "code",
   "execution_count": 50,
   "id": "3b4f155c-8c81-4e16-ad9b-6e00cd871763",
   "metadata": {},
   "outputs": [
    {
     "name": "stdout",
     "output_type": "stream",
     "text": [
      "yellow\n"
     ]
    }
   ],
   "source": [
    "class House:\n",
    "    def __init__(self,x):\n",
    "        self.color=x\n",
    "\n",
    "h1=House(\"yellow\")\n",
    "print(h1.color)\n",
    "\n"
   ]
  },
  {
   "cell_type": "code",
   "execution_count": 49,
   "id": "e5c122ec-eb99-4af3-bfef-6c67fcf01465",
   "metadata": {
    "scrolled": true
   },
   "outputs": [
    {
     "ename": "TypeError",
     "evalue": "House.__init__() missing 1 required positional argument: 'y'",
     "output_type": "error",
     "traceback": [
      "\u001b[1;31m---------------------------------------------------------------------------\u001b[0m",
      "\u001b[1;31mTypeError\u001b[0m                                 Traceback (most recent call last)",
      "Cell \u001b[1;32mIn[49], line 1\u001b[0m\n\u001b[1;32m----> 1\u001b[0m h2\u001b[38;5;241m=\u001b[39m\u001b[43mHouse\u001b[49m\u001b[43m(\u001b[49m\u001b[38;5;124;43m\"\u001b[39;49m\u001b[38;5;124;43mblue\u001b[39;49m\u001b[38;5;124;43m\"\u001b[39;49m\u001b[43m)\u001b[49m\n\u001b[0;32m      2\u001b[0m \u001b[38;5;28mprint\u001b[39m(h2\u001b[38;5;241m.\u001b[39mcolor)\n",
      "\u001b[1;31mTypeError\u001b[0m: House.__init__() missing 1 required positional argument: 'y'"
     ]
    }
   ],
   "source": [
    "h2=House(\"blue\")\n",
    "print(h2.color)"
   ]
  },
  {
   "cell_type": "code",
   "execution_count": 38,
   "id": "de8a2fce-96c2-4712-a030-0bf772479529",
   "metadata": {},
   "outputs": [
    {
     "name": "stdout",
     "output_type": "stream",
     "text": [
      "yellow 5\n"
     ]
    }
   ],
   "source": [
    "class House:\n",
    "    def __init__(self,x,y):\n",
    "        self.color=x\n",
    "        self.room=y\n",
    "\n",
    "h1=House(\"yellow\",5)\n",
    "print(h1.color , h1.room)\n",
    "\n"
   ]
  },
  {
   "cell_type": "code",
   "execution_count": 44,
   "id": "6b778590-a6fe-472d-a08e-152712320102",
   "metadata": {},
   "outputs": [
    {
     "name": "stdout",
     "output_type": "stream",
     "text": [
      "house has :  yellow 5\n"
     ]
    }
   ],
   "source": [
    "class  house:\n",
    "    def __init__(self , x ,y):\n",
    "        self.color=x\n",
    "        self.room=y\n",
    "\n",
    "    def info(self):\n",
    "        print(\"house has : \" , self.color , self.room)\n",
    "\n",
    "# objct1\n",
    "h1=house(\"yellow\",5)\n",
    "h1.info()"
   ]
  },
  {
   "cell_type": "code",
   "execution_count": null,
   "id": "01e00d82-5b2d-42de-b2bc-37cc42352869",
   "metadata": {},
   "outputs": [],
   "source": []
  }
 ],
 "metadata": {
  "kernelspec": {
   "display_name": "Python 3 (ipykernel)",
   "language": "python",
   "name": "python3"
  },
  "language_info": {
   "codemirror_mode": {
    "name": "ipython",
    "version": 3
   },
   "file_extension": ".py",
   "mimetype": "text/x-python",
   "name": "python",
   "nbconvert_exporter": "python",
   "pygments_lexer": "ipython3",
   "version": "3.10.11"
  }
 },
 "nbformat": 4,
 "nbformat_minor": 5
}
